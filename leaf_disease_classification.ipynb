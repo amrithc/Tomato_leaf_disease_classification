{
  "nbformat": 4,
  "nbformat_minor": 0,
  "metadata": {
    "colab": {
      "name": "leaf_disease_classification.ipynb",
      "provenance": [],
      "collapsed_sections": [],
      "machine_shape": "hm"
    },
    "kernelspec": {
      "name": "python3",
      "display_name": "Python 3"
    },
    "accelerator": "GPU"
  },
  "cells": [
    {
      "cell_type": "code",
      "metadata": {
        "id": "xdFRQ5lsQTd6",
        "colab_type": "code",
        "outputId": "c095cb4c-a7bd-45fe-c8ec-85f897fbb406",
        "colab": {
          "base_uri": "https://localhost:8080/",
          "height": 122
        }
      },
      "source": [
        "from google.colab import drive\n",
        "drive.mount('/content/gdrive/')\n"
      ],
      "execution_count": 1,
      "outputs": [
        {
          "output_type": "stream",
          "text": [
            "Go to this URL in a browser: https://accounts.google.com/o/oauth2/auth?client_id=947318989803-6bn6qk8qdgf4n4g3pfee6491hc0brc4i.apps.googleusercontent.com&redirect_uri=urn%3aietf%3awg%3aoauth%3a2.0%3aoob&response_type=code&scope=email%20https%3a%2f%2fwww.googleapis.com%2fauth%2fdocs.test%20https%3a%2f%2fwww.googleapis.com%2fauth%2fdrive%20https%3a%2f%2fwww.googleapis.com%2fauth%2fdrive.photos.readonly%20https%3a%2f%2fwww.googleapis.com%2fauth%2fpeopleapi.readonly\n",
            "\n",
            "Enter your authorization code:\n",
            "··········\n",
            "Mounted at /content/gdrive/\n"
          ],
          "name": "stdout"
        }
      ]
    },
    {
      "cell_type": "code",
      "metadata": {
        "id": "n8k4qKfRQcJr",
        "colab_type": "code",
        "colab": {}
      },
      "source": [
        "import tensorflow as tf\n",
        "from tensorflow.keras.preprocessing.image import ImageDataGenerator\n",
        "from tensorflow.keras.optimizers import Adam\n",
        "from keras.preprocessing import image\n",
        "import numpy as np\n",
        "import os\n",
        "import random\n",
        "from shutil import copyfile\n",
        "import matplotlib.image  as mpimg\n",
        "import matplotlib.pyplot as plt\n",
        "%matplotlib inline\n"
      ],
      "execution_count": 0,
      "outputs": []
    },
    {
      "cell_type": "code",
      "metadata": {
        "id": "lhrJHpGlF6u6",
        "colab_type": "code",
        "colab": {}
      },
      "source": [
        "to_create = [\n",
        "    '/content/gdrive/My Drive/leaf_disease',\n",
        "    '/content/gdrive/My Drive/leaf_disease/training',\n",
        "    '/content/gdrive/My Drive/leaf_disease/testing',\n",
        "    '/content/gdrive/My Drive/leaf_disease/training/Tomato_Bacterial_spot',\n",
        "    '/content/gdrive/My Drive/leaf_disease/training/Tomato_Late_blight',\n",
        "    '/content/gdrive/My Drive/leaf_disease/training/Tomato_Early_blight',\n",
        "    '/content/gdrive/My Drive/leaf_disease/training/Tomato_Leaf_Mold',\n",
        "    '/content/gdrive/My Drive/leaf_disease/training/Tomato_healthy',\n",
        "    '/content/gdrive/My Drive/leaf_disease/training/Tomato_YellowLeaf__Curl_Virus',\n",
        "    '/content/gdrive/My Drive/leaf_disease/testing/Tomato_Bacterial_spot',\n",
        "    '/content/gdrive/My Drive/leaf_disease/testing/Tomato_Late_blight',\n",
        "    '/content/gdrive/My Drive/leaf_disease/testing/Tomato_Early_blight',\n",
        "    '/content/gdrive/My Drive/leaf_disease/testing/Tomato_Leaf_Mold',\n",
        "    '/content/gdrive/My Drive/leaf_disease/testing/Tomato_healthy',\n",
        "    '/content/gdrive/My Drive/leaf_disease/testing/Tomato_YellowLeaf__Curl_Virus'\n",
        "\n",
        "]\n",
        "for directory in to_create:\n",
        "    try:\n",
        "        os.mkdir(directory)\n",
        "        print(directory, 'created')\n",
        "    except:\n",
        "        print(directory, 'failed')\n",
        "        "
      ],
      "execution_count": 0,
      "outputs": []
    },
    {
      "cell_type": "code",
      "metadata": {
        "id": "ykA3It0NJQ5y",
        "colab_type": "code",
        "colab": {}
      },
      "source": [
        "def split_data(SOURCE, TRAINING, TESTING, SPLIT_SIZE):\n",
        "    all_files = []\n",
        "    \n",
        "    for file_name in os.listdir(SOURCE):\n",
        "        file_path = SOURCE + file_name\n",
        "\n",
        "        if os.path.getsize(file_path):\n",
        "            all_files.append(file_name)\n",
        "        else:\n",
        "            print('{} is zero length, so ignoring'.format(file_name))\n",
        "    \n",
        "    n_files = len(all_files)\n",
        "    split_point = int(n_files * SPLIT_SIZE)\n",
        "    \n",
        "    shuffled = random.sample(all_files, n_files)\n",
        "    \n",
        "    train_set = shuffled[:split_point]\n",
        "    test_set = shuffled[split_point:]\n",
        "    \n",
        "    for file_name in train_set:\n",
        "        copyfile(SOURCE + file_name, TRAINING + file_name)\n",
        "        \n",
        "    for file_name in test_set:\n",
        "        copyfile(SOURCE + file_name, TESTING + file_name)\n"
      ],
      "execution_count": 0,
      "outputs": []
    },
    {
      "cell_type": "code",
      "metadata": {
        "id": "qyr8r26VcVXT",
        "colab_type": "code",
        "colab": {}
      },
      "source": [
        "#DO THIS FOR ALL THE CLASSES\n",
        "\n",
        "SOURCE_DIR = r\"/content/gdrive/My Drive/Data/Tomato_Late_blight/\"\n",
        "TRAINING_DIR = r\"/content/gdrive/My Drive/leaf_disease/training/Tomato_Late_blight/\"\n",
        "TESTING_DIR = r\"/content/gdrive/My Drive/leaf_disease/testing/Tomato_Late_blight/\"\n",
        "\n",
        "split_size = .8\n",
        "split_data(SOURCE_DIR, TRAINING_DIR, TESTING_DIR, split_size)\n",
        "\n"
      ],
      "execution_count": 0,
      "outputs": []
    },
    {
      "cell_type": "code",
      "metadata": {
        "id": "NfyCSqcNRXdb",
        "colab_type": "code",
        "outputId": "0fcf030b-fdca-4295-bce4-5ec4e11faeea",
        "colab": {
          "base_uri": "https://localhost:8080/",
          "height": 51
        }
      },
      "source": [
        "training_dir= '/content/gdrive/My Drive/leaf_disease/training'\n",
        "validation_dir=  '/content/gdrive/My Drive/leaf_disease/testing'\n",
        "\n",
        "train_datagen = ImageDataGenerator(rescale=1./255,\n",
        "      rotation_range=40,\n",
        "      width_shift_range=0.2,\n",
        "      height_shift_range=0.2,\n",
        "      zoom_range=0.2,\n",
        "      horizontal_flip=True,\n",
        "     )\n",
        "\n",
        "train_generator = train_datagen.flow_from_directory(\n",
        "        training_dir,  \n",
        "        target_size=(256, 256),  \n",
        "        batch_size=128,\n",
        "        class_mode='categorical')\n",
        "\n",
        "test_datagen = ImageDataGenerator(rescale=1./255)\n",
        "\n",
        "validation_generator = test_datagen.flow_from_directory(\n",
        "        validation_dir,\n",
        "        target_size=(256, 256),\n",
        "        batch_size=128,\n",
        "        class_mode='categorical')\n",
        "\n"
      ],
      "execution_count": 43,
      "outputs": [
        {
          "output_type": "stream",
          "text": [
            "Found 8627 images belonging to 6 classes.\n",
            "Found 2160 images belonging to 6 classes.\n"
          ],
          "name": "stdout"
        }
      ]
    },
    {
      "cell_type": "markdown",
      "metadata": {
        "id": "3BSnF_2RT5sg",
        "colab_type": "text"
      },
      "source": [
        "Uncomment the below section if you want to use callbacks and specify the required accuracy."
      ]
    },
    {
      "cell_type": "code",
      "metadata": {
        "id": "wcQS2nM9TqLq",
        "colab_type": "code",
        "colab": {}
      },
      "source": [
        "#class myCallback(tf.keras.callbacks.Callback):\n",
        "#  def on_epoch_end(self, epoch, logs={}):\n",
        "#    if(logs.get('accuracy')>0.98):\n",
        "#      print(\"\\nReached 98% accuracy so cancelling training!\")\n",
        "#      self.model.stop_training = True\n",
        "\n",
        "#callbacks= myCallback()\n",
        "  "
      ],
      "execution_count": 0,
      "outputs": []
    },
    {
      "cell_type": "code",
      "metadata": {
        "id": "Di9IYs8XSQnK",
        "colab_type": "code",
        "colab": {}
      },
      "source": [
        "model = tf.keras.models.Sequential([\n",
        "    tf.keras.layers.Conv2D(16, (3,3), activation='relu', input_shape=(256, 256, 3)),\n",
        "    tf.keras.layers.MaxPooling2D(2, 2),\n",
        "    \n",
        "    tf.keras.layers.Conv2D(32, (3,3), activation='relu'),\n",
        "    tf.keras.layers.MaxPooling2D(2,2),\n",
        "    \n",
        "    tf.keras.layers.Conv2D(32, (3,3), activation='relu'),\n",
        "    tf.keras.layers.MaxPooling2D(2,2),\n",
        "    \n",
        "    tf.keras.layers.Conv2D(64, (3,3), activation='relu'),\n",
        "    tf.keras.layers.MaxPooling2D(2,2),\n",
        "    \n",
        "    tf.keras.layers.Conv2D(64, (3,3), activation='relu'),\n",
        "    tf.keras.layers.MaxPooling2D(2,2),\n",
        "    \n",
        "    tf.keras.layers.Flatten(),\n",
        "    tf.keras.layers.Dense(512, activation='relu'),\n",
        "    tf.keras.layers.Dropout(0.2),\n",
        "    tf.keras.layers.Dense(6, activation='softmax')\n",
        "])"
      ],
      "execution_count": 0,
      "outputs": []
    },
    {
      "cell_type": "code",
      "metadata": {
        "id": "DHO06RZuSRMG",
        "colab_type": "code",
        "outputId": "3e0060c2-ddf9-4a35-d724-568c11edc85d",
        "colab": {
          "base_uri": "https://localhost:8080/",
          "height": 629
        }
      },
      "source": [
        "model.summary()"
      ],
      "execution_count": 0,
      "outputs": [
        {
          "output_type": "stream",
          "text": [
            "Model: \"sequential\"\n",
            "_________________________________________________________________\n",
            "Layer (type)                 Output Shape              Param #   \n",
            "=================================================================\n",
            "conv2d (Conv2D)              (None, 254, 254, 16)      448       \n",
            "_________________________________________________________________\n",
            "max_pooling2d (MaxPooling2D) (None, 127, 127, 16)      0         \n",
            "_________________________________________________________________\n",
            "conv2d_1 (Conv2D)            (None, 125, 125, 32)      4640      \n",
            "_________________________________________________________________\n",
            "max_pooling2d_1 (MaxPooling2 (None, 62, 62, 32)        0         \n",
            "_________________________________________________________________\n",
            "conv2d_2 (Conv2D)            (None, 60, 60, 32)        9248      \n",
            "_________________________________________________________________\n",
            "max_pooling2d_2 (MaxPooling2 (None, 30, 30, 32)        0         \n",
            "_________________________________________________________________\n",
            "conv2d_3 (Conv2D)            (None, 28, 28, 64)        18496     \n",
            "_________________________________________________________________\n",
            "max_pooling2d_3 (MaxPooling2 (None, 14, 14, 64)        0         \n",
            "_________________________________________________________________\n",
            "conv2d_4 (Conv2D)            (None, 12, 12, 64)        36928     \n",
            "_________________________________________________________________\n",
            "max_pooling2d_4 (MaxPooling2 (None, 6, 6, 64)          0         \n",
            "_________________________________________________________________\n",
            "flatten (Flatten)            (None, 2304)              0         \n",
            "_________________________________________________________________\n",
            "dense (Dense)                (None, 512)               1180160   \n",
            "_________________________________________________________________\n",
            "dropout (Dropout)            (None, 512)               0         \n",
            "_________________________________________________________________\n",
            "dense_1 (Dense)              (None, 6)                 3078      \n",
            "=================================================================\n",
            "Total params: 1,252,998\n",
            "Trainable params: 1,252,998\n",
            "Non-trainable params: 0\n",
            "_________________________________________________________________\n"
          ],
          "name": "stdout"
        }
      ]
    },
    {
      "cell_type": "code",
      "metadata": {
        "id": "xHjeWVPQSxWZ",
        "colab_type": "code",
        "colab": {}
      },
      "source": [
        "model.compile(optimizer=Adam(),\n",
        "              loss='categorical_crossentropy',\n",
        "              metrics=['accuracy'])"
      ],
      "execution_count": 0,
      "outputs": []
    },
    {
      "cell_type": "code",
      "metadata": {
        "id": "K60WAo0ASFuw",
        "colab_type": "code",
        "outputId": "bc4e087e-99ca-4276-9327-1d9cce5c4cd6",
        "colab": {
          "base_uri": "https://localhost:8080/",
          "height": 1000
        }
      },
      "source": [
        "history = model.fit(train_generator,\n",
        "                    epochs=50,\n",
        "                    steps_per_epoch=68,\n",
        "                    validation_data=validation_generator,\n",
        "                    validation_steps=17,\n",
        "                    verbose=1)\n"
      ],
      "execution_count": 0,
      "outputs": [
        {
          "output_type": "stream",
          "text": [
            "Epoch 1/50\n",
            "68/68 [==============================] - 296s 4s/step - loss: 0.8652 - accuracy: 0.7094 - val_loss: 0.5403 - val_accuracy: 0.8056\n",
            "Epoch 2/50\n",
            "68/68 [==============================] - 127s 2s/step - loss: 0.5876 - accuracy: 0.7835 - val_loss: 0.5165 - val_accuracy: 0.8157\n",
            "Epoch 3/50\n",
            "68/68 [==============================] - 128s 2s/step - loss: 0.5152 - accuracy: 0.8114 - val_loss: 0.6662 - val_accuracy: 0.7722\n",
            "Epoch 4/50\n",
            "68/68 [==============================] - 128s 2s/step - loss: 0.4425 - accuracy: 0.8348 - val_loss: 0.4802 - val_accuracy: 0.8361\n",
            "Epoch 5/50\n",
            "68/68 [==============================] - 128s 2s/step - loss: 0.3951 - accuracy: 0.8550 - val_loss: 0.4321 - val_accuracy: 0.8537\n",
            "Epoch 6/50\n",
            "68/68 [==============================] - 129s 2s/step - loss: 0.3391 - accuracy: 0.8761 - val_loss: 0.4603 - val_accuracy: 0.8394\n",
            "Epoch 7/50\n",
            "68/68 [==============================] - 129s 2s/step - loss: 0.3144 - accuracy: 0.8878 - val_loss: 0.3349 - val_accuracy: 0.8745\n",
            "Epoch 8/50\n",
            "68/68 [==============================] - 130s 2s/step - loss: 0.2791 - accuracy: 0.8986 - val_loss: 0.3064 - val_accuracy: 0.8986\n",
            "Epoch 9/50\n",
            "68/68 [==============================] - 130s 2s/step - loss: 0.2782 - accuracy: 0.9036 - val_loss: 0.2130 - val_accuracy: 0.9157\n",
            "Epoch 10/50\n",
            "68/68 [==============================] - 131s 2s/step - loss: 0.2407 - accuracy: 0.9160 - val_loss: 0.2759 - val_accuracy: 0.8981\n",
            "Epoch 11/50\n",
            "68/68 [==============================] - 131s 2s/step - loss: 0.2329 - accuracy: 0.9124 - val_loss: 0.2874 - val_accuracy: 0.9005\n",
            "Epoch 12/50\n",
            "68/68 [==============================] - 132s 2s/step - loss: 0.2114 - accuracy: 0.9264 - val_loss: 0.2614 - val_accuracy: 0.9079\n",
            "Epoch 13/50\n",
            "68/68 [==============================] - 133s 2s/step - loss: 0.2029 - accuracy: 0.9269 - val_loss: 0.1606 - val_accuracy: 0.9417\n",
            "Epoch 14/50\n",
            "68/68 [==============================] - 132s 2s/step - loss: 0.1881 - accuracy: 0.9331 - val_loss: 0.1966 - val_accuracy: 0.9236\n",
            "Epoch 15/50\n",
            "68/68 [==============================] - 132s 2s/step - loss: 0.1913 - accuracy: 0.9335 - val_loss: 0.3368 - val_accuracy: 0.8898\n",
            "Epoch 16/50\n",
            "68/68 [==============================] - 131s 2s/step - loss: 0.1596 - accuracy: 0.9433 - val_loss: 0.1645 - val_accuracy: 0.9333\n",
            "Epoch 17/50\n",
            "68/68 [==============================] - 132s 2s/step - loss: 0.1504 - accuracy: 0.9468 - val_loss: 0.2292 - val_accuracy: 0.9241\n",
            "Epoch 18/50\n",
            "68/68 [==============================] - 132s 2s/step - loss: 0.1453 - accuracy: 0.9500 - val_loss: 0.1354 - val_accuracy: 0.9532\n",
            "Epoch 19/50\n",
            "68/68 [==============================] - 132s 2s/step - loss: 0.1360 - accuracy: 0.9527 - val_loss: 0.2169 - val_accuracy: 0.9227\n",
            "Epoch 20/50\n",
            "68/68 [==============================] - 134s 2s/step - loss: 0.1429 - accuracy: 0.9485 - val_loss: 0.1295 - val_accuracy: 0.9579\n",
            "Epoch 21/50\n",
            "68/68 [==============================] - 134s 2s/step - loss: 0.1260 - accuracy: 0.9578 - val_loss: 0.0897 - val_accuracy: 0.9699\n",
            "Epoch 22/50\n",
            "68/68 [==============================] - 133s 2s/step - loss: 0.1416 - accuracy: 0.9459 - val_loss: 0.1382 - val_accuracy: 0.9574\n",
            "Epoch 23/50\n",
            "68/68 [==============================] - 134s 2s/step - loss: 0.1067 - accuracy: 0.9624 - val_loss: 0.0921 - val_accuracy: 0.9671\n",
            "Epoch 24/50\n",
            "68/68 [==============================] - 133s 2s/step - loss: 0.1212 - accuracy: 0.9616 - val_loss: 0.0918 - val_accuracy: 0.9713\n",
            "Epoch 25/50\n",
            "68/68 [==============================] - 133s 2s/step - loss: 0.1059 - accuracy: 0.9614 - val_loss: 0.0938 - val_accuracy: 0.9662\n",
            "Epoch 26/50\n",
            "68/68 [==============================] - 133s 2s/step - loss: 0.1138 - accuracy: 0.9598 - val_loss: 0.0860 - val_accuracy: 0.9731\n",
            "Epoch 27/50\n",
            "68/68 [==============================] - 133s 2s/step - loss: 0.0952 - accuracy: 0.9662 - val_loss: 0.1216 - val_accuracy: 0.9602\n",
            "Epoch 28/50\n",
            "68/68 [==============================] - 132s 2s/step - loss: 0.0887 - accuracy: 0.9675 - val_loss: 0.2253 - val_accuracy: 0.9259\n",
            "Epoch 29/50\n",
            "68/68 [==============================] - 132s 2s/step - loss: 0.1019 - accuracy: 0.9648 - val_loss: 0.0756 - val_accuracy: 0.9741\n",
            "Epoch 30/50\n",
            "68/68 [==============================] - 132s 2s/step - loss: 0.0921 - accuracy: 0.9685 - val_loss: 0.1101 - val_accuracy: 0.9606\n",
            "Epoch 31/50\n",
            "68/68 [==============================] - 131s 2s/step - loss: 0.0950 - accuracy: 0.9658 - val_loss: 0.1032 - val_accuracy: 0.9574\n",
            "Epoch 32/50\n",
            "68/68 [==============================] - 132s 2s/step - loss: 0.1110 - accuracy: 0.9608 - val_loss: 0.0894 - val_accuracy: 0.9718\n",
            "Epoch 33/50\n",
            "68/68 [==============================] - 130s 2s/step - loss: 0.0759 - accuracy: 0.9732 - val_loss: 0.1542 - val_accuracy: 0.9514\n",
            "Epoch 34/50\n",
            "68/68 [==============================] - 131s 2s/step - loss: 0.0696 - accuracy: 0.9746 - val_loss: 0.2225 - val_accuracy: 0.9343\n",
            "Epoch 35/50\n",
            "68/68 [==============================] - 130s 2s/step - loss: 0.0926 - accuracy: 0.9681 - val_loss: 0.1398 - val_accuracy: 0.9588\n",
            "Epoch 36/50\n",
            "68/68 [==============================] - 133s 2s/step - loss: 0.0734 - accuracy: 0.9737 - val_loss: 0.0818 - val_accuracy: 0.9699\n",
            "Epoch 37/50\n",
            "68/68 [==============================] - 131s 2s/step - loss: 0.0682 - accuracy: 0.9753 - val_loss: 0.1051 - val_accuracy: 0.9634\n",
            "Epoch 38/50\n",
            "68/68 [==============================] - 132s 2s/step - loss: 0.0728 - accuracy: 0.9733 - val_loss: 0.1343 - val_accuracy: 0.9537\n",
            "Epoch 39/50\n",
            "68/68 [==============================] - 130s 2s/step - loss: 0.0820 - accuracy: 0.9724 - val_loss: 0.0482 - val_accuracy: 0.9843\n",
            "Epoch 40/50\n",
            "68/68 [==============================] - 125s 2s/step - loss: 0.0624 - accuracy: 0.9783 - val_loss: 0.1351 - val_accuracy: 0.9560\n",
            "Epoch 41/50\n",
            "68/68 [==============================] - 125s 2s/step - loss: 0.0745 - accuracy: 0.9724 - val_loss: 0.0693 - val_accuracy: 0.9764\n",
            "Epoch 42/50\n",
            "68/68 [==============================] - 124s 2s/step - loss: 0.0738 - accuracy: 0.9750 - val_loss: 0.2420 - val_accuracy: 0.9259\n",
            "Epoch 43/50\n",
            "68/68 [==============================] - 123s 2s/step - loss: 0.0712 - accuracy: 0.9742 - val_loss: 0.0609 - val_accuracy: 0.9810\n",
            "Epoch 44/50\n",
            "68/68 [==============================] - 123s 2s/step - loss: 0.0691 - accuracy: 0.9772 - val_loss: 0.0741 - val_accuracy: 0.9741\n",
            "Epoch 45/50\n",
            "68/68 [==============================] - 122s 2s/step - loss: 0.0631 - accuracy: 0.9788 - val_loss: 0.0950 - val_accuracy: 0.9630\n",
            "Epoch 46/50\n",
            "68/68 [==============================] - 123s 2s/step - loss: 0.0601 - accuracy: 0.9779 - val_loss: 0.0943 - val_accuracy: 0.9620\n",
            "Epoch 47/50\n",
            "68/68 [==============================] - 122s 2s/step - loss: 0.0808 - accuracy: 0.9719 - val_loss: 0.1051 - val_accuracy: 0.9704\n",
            "Epoch 48/50\n",
            "68/68 [==============================] - 122s 2s/step - loss: 0.0524 - accuracy: 0.9824 - val_loss: 0.0932 - val_accuracy: 0.9731\n",
            "Epoch 49/50\n",
            "68/68 [==============================] - 123s 2s/step - loss: 0.0587 - accuracy: 0.9789 - val_loss: 0.1196 - val_accuracy: 0.9588\n",
            "Epoch 50/50\n",
            "68/68 [==============================] - 122s 2s/step - loss: 0.0607 - accuracy: 0.9795 - val_loss: 0.1798 - val_accuracy: 0.9532\n"
          ],
          "name": "stdout"
        }
      ]
    },
    {
      "cell_type": "markdown",
      "metadata": {
        "id": "jZcH6uc7pIVR",
        "colab_type": "text"
      },
      "source": [
        "PLOT LOSS AND ACCURACY"
      ]
    },
    {
      "cell_type": "code",
      "metadata": {
        "id": "a8lIZ2HOoueE",
        "colab_type": "code",
        "outputId": "16554456-80a9-4a66-e34a-618252956bf6",
        "colab": {
          "base_uri": "https://localhost:8080/",
          "height": 590
        }
      },
      "source": [
        "acc=history.history['accuracy']\n",
        "val_acc=history.history['val_accuracy']\n",
        "loss=history.history['loss']\n",
        "val_loss=history.history['val_loss']\n",
        "\n",
        "epochs=range(len(acc)) \n",
        "\n",
        "plt.plot(epochs, acc, 'r', label=\"Training Accuracy\")\n",
        "plt.plot(epochs, val_acc, 'b', label=\"Validation Accuracy\")\n",
        "plt.xlabel('Epochs')\n",
        "plt.legend()\n",
        "plt.title('Training and validation accuracy')\n",
        "plt.figure()\n",
        "\n",
        "plt.plot(epochs, loss, 'r', label=\"Training Loss\")\n",
        "plt.plot(epochs, val_loss, 'b', label=\"Validation Loss\")\n",
        "plt.xlabel('Epochs')\n",
        "plt.legend()\n",
        "plt.title('Training and validation loss')"
      ],
      "execution_count": 0,
      "outputs": [
        {
          "output_type": "execute_result",
          "data": {
            "text/plain": [
              "Text(0.5, 1.0, 'Training and validation loss')"
            ]
          },
          "metadata": {
            "tags": []
          },
          "execution_count": 18
        },
        {
          "output_type": "display_data",
          "data": {
            "image/png": "[encoded data removed]",
            "text/plain": [
              "<Figure size 432x288 with 1 Axes>"
            ]
          },
          "metadata": {
            "tags": [],
            "needs_background": "light"
          }
        },
        {
          "output_type": "display_data",
          "data": {
            "image/png": "[encoded data removed]",
            "text/plain": [
              "<Figure size 432x288 with 1 Axes>"
            ]
          },
          "metadata": {
            "tags": [],
            "needs_background": "light"
          }
        }
      ]
    },
    {
      "cell_type": "markdown",
      "metadata": {
        "id": "undlYxB4YRBo",
        "colab_type": "text"
      },
      "source": [
        "SAVE THE MODEL\n"
      ]
    },
    {
      "cell_type": "code",
      "metadata": {
        "id": "RLRNYyblRYgd",
        "colab_type": "code",
        "colab": {}
      },
      "source": [
        "model.save('/content/gdrive/My Drive/leaf_disease/trained_model.h5')"
      ],
      "execution_count": 0,
      "outputs": []
    },
    {
      "cell_type": "markdown",
      "metadata": {
        "id": "JqQxplJ5UjPH",
        "colab_type": "text"
      },
      "source": [
        "DETECTION"
      ]
    },
    {
      "cell_type": "code",
      "metadata": {
        "id": "MzrlzEEcSquJ",
        "colab_type": "code",
        "colab": {
          "base_uri": "https://localhost:8080/",
          "height": 34
        },
        "outputId": "827ff28a-46fd-44ad-d337-ac68e3771a4a"
      },
      "source": [
        "#GET THE LABEL LIST USING THE ImageDataGenerator FUNCTION FOR TRAINING :  labels = train_generator.class_indices \n",
        "labels= ['Tomato_Bacterial_spot', 'Tomato_Early_blight', 'Tomato_Late_blight', 'Tomato_Leaf_Mold', 'Tomato_YellowLeaf__Curl_Virus', 'Tomato_healthy']\n",
        "\n",
        "model = tf.keras.models.load_model('/content/gdrive/My Drive/leaf_disease/trained_model.h5')\n",
        "path = '/content/gdrive/My Drive/leaf_disease/test/lb.JPG'\n",
        "img = image.load_img(path, target_size=(256, 256))\n",
        "x = image.img_to_array(img)\n",
        "x = np.expand_dims(x, axis=0)\n",
        "\n",
        "classes = model.predict_classes(x)\n",
        "print(\"It is classified as {}\".format(labels[classes[0]]))\n"
      ],
      "execution_count": 42,
      "outputs": [
        {
          "output_type": "stream",
          "text": [
            "It is classified as Tomato_Late_blight\n"
          ],
          "name": "stdout"
        }
      ]
    },
    {
      "cell_type": "code",
      "metadata": {
        "id": "qMfK5qNcSx_J",
        "colab_type": "code",
        "colab": {}
      },
      "source": [
        ""
      ],
      "execution_count": 0,
      "outputs": []
    }
  ]
}